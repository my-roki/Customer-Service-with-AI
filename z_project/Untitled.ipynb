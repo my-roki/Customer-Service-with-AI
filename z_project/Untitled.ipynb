{
 "cells": [
  {
   "cell_type": "code",
   "execution_count": 1,
   "metadata": {
    "ExecuteTime": {
     "end_time": "2020-08-10T01:14:53.137290Z",
     "start_time": "2020-08-10T01:14:53.092089Z"
    }
   },
   "outputs": [],
   "source": [
    "import datetime\n",
    "import cv2, time\n",
    "import os"
   ]
  },
  {
   "cell_type": "code",
   "execution_count": 2,
   "metadata": {
    "ExecuteTime": {
     "end_time": "2020-08-10T01:14:53.845520Z",
     "start_time": "2020-08-10T01:14:53.782318Z"
    }
   },
   "outputs": [
    {
     "data": {
      "text/plain": [
       "False"
      ]
     },
     "execution_count": 2,
     "metadata": {},
     "output_type": "execute_result"
    }
   ],
   "source": [
    "capture = cv2.VideoCapture(0)    # 0번 카메라를 켭니다.\n",
    "capture.isOpened()"
   ]
  },
  {
   "cell_type": "code",
   "execution_count": 3,
   "metadata": {
    "ExecuteTime": {
     "end_time": "2020-08-10T01:14:54.312546Z",
     "start_time": "2020-08-10T01:14:54.305546Z"
    }
   },
   "outputs": [],
   "source": [
    "fourcc = cv2.VideoWriter_fourcc(*'DIVX') \n",
    "record = False\n",
    "count = 1\n",
    "key = 1"
   ]
  },
  {
   "cell_type": "code",
   "execution_count": 4,
   "metadata": {
    "ExecuteTime": {
     "end_time": "2020-08-10T01:14:54.906977Z",
     "start_time": "2020-08-10T01:14:54.891377Z"
    }
   },
   "outputs": [],
   "source": [
    "global capture, count, key\n",
    "\n",
    "def img_capture():\n",
    "    global capture, count\n",
    "    if(count % 15 == 0):\n",
    "        cv2.imwrite(\"D:/Fpjt/z_project/image/frame%d.jpg\" % (count/15), frame)\n",
    "        print('Saved frame%d.jpg' % count)\n",
    "    count += 1\n",
    "            "
   ]
  },
  {
   "cell_type": "code",
   "execution_count": 5,
   "metadata": {
    "ExecuteTime": {
     "end_time": "2020-08-10T01:14:55.641609Z",
     "start_time": "2020-08-10T01:14:55.585408Z"
    }
   },
   "outputs": [
    {
     "name": "stdout",
     "output_type": "stream",
     "text": [
      "Camera is not opened\n"
     ]
    }
   ],
   "source": [
    "now = datetime.datetime.now().strftime(\"%Y-%m-%d_%H_%M_%S\")\n",
    "capture = cv2.VideoCapture(0)  \n",
    "if capture.isOpened():\n",
    "    while True:\n",
    "        ret, frame = capture.read()\n",
    "        \n",
    "        cv2.imshow(\"Video\", frame)\n",
    "        key = cv2.waitKey(1)\n",
    "\n",
    "        if key == 27:           # 27 = ESC\n",
    "            break\n",
    "            \n",
    "        elif key == 24:         # 26 = Ctrl + X\n",
    "            record=True\n",
    "            video = cv2.VideoWriter(\"D:/Fpjt/z_project/image/\"+ str(now) + \".mp4\", fourcc, 30.0, (frame.shape[1], frame.shape[0]))\n",
    "        elif key == 3:          # 3 = Ctrl + C\n",
    "            print(\"Record stop\")\n",
    "            record = False       \n",
    "            video.release()\n",
    "\n",
    "#             path_=\"D:/Fpjt/z_project/image/\"\n",
    "#             os.rename(path_+\"record.mp4\",path_+str(now)+\".mp4\")\n",
    "            \n",
    "        if record == True:\n",
    "            print(\"Record is running\")\n",
    "            video.write(frame)\n",
    "            img_capture()\n",
    "else:\n",
    "    print(\"Camera is not opened\")\n",
    "            \n",
    "capture.release()\n",
    "cv2.destroyAllWindows()\n",
    "\n"
   ]
  },
  {
   "cell_type": "code",
   "execution_count": 29,
   "metadata": {
    "ExecuteTime": {
     "end_time": "2020-08-07T10:18:52.810744Z",
     "start_time": "2020-08-07T10:18:52.777543Z"
    }
   },
   "outputs": [],
   "source": []
  },
  {
   "cell_type": "code",
   "execution_count": null,
   "metadata": {},
   "outputs": [],
   "source": []
  }
 ],
 "metadata": {
  "kernelspec": {
   "display_name": "Python 3",
   "language": "python",
   "name": "python3"
  },
  "language_info": {
   "codemirror_mode": {
    "name": "ipython",
    "version": 3
   },
   "file_extension": ".py",
   "mimetype": "text/x-python",
   "name": "python",
   "nbconvert_exporter": "python",
   "pygments_lexer": "ipython3",
   "version": "3.7.1"
  },
  "toc": {
   "base_numbering": 1,
   "nav_menu": {},
   "number_sections": true,
   "sideBar": true,
   "skip_h1_title": false,
   "title_cell": "Table of Contents",
   "title_sidebar": "Contents",
   "toc_cell": false,
   "toc_position": {},
   "toc_section_display": true,
   "toc_window_display": false
  },
  "varInspector": {
   "cols": {
    "lenName": 16,
    "lenType": 16,
    "lenVar": 40
   },
   "kernels_config": {
    "python": {
     "delete_cmd_postfix": "",
     "delete_cmd_prefix": "del ",
     "library": "var_list.py",
     "varRefreshCmd": "print(var_dic_list())"
    },
    "r": {
     "delete_cmd_postfix": ") ",
     "delete_cmd_prefix": "rm(",
     "library": "var_list.r",
     "varRefreshCmd": "cat(var_dic_list()) "
    }
   },
   "types_to_exclude": [
    "module",
    "function",
    "builtin_function_or_method",
    "instance",
    "_Feature"
   ],
   "window_display": false
  }
 },
 "nbformat": 4,
 "nbformat_minor": 4
}
