{
  "nbformat": 4,
  "nbformat_minor": 0,
  "metadata": {
    "colab": {
      "name": "Keras_Architecture_VGG19_Version2.ipynb",
      "provenance": [],
      "collapsed_sections": [],
      "authorship_tag": "ABX9TyNo0oINju12bRQn5guDwBKM",
      "include_colab_link": true
    },
    "kernelspec": {
      "name": "python3",
      "display_name": "Python 3"
    },
    "accelerator": "GPU"
  },
  "cells": [
    {
      "cell_type": "markdown",
      "metadata": {
        "id": "view-in-github",
        "colab_type": "text"
      },
      "source": [
        "<a href=\"https://colab.research.google.com/github/my-roki/KOSA_Fpht/blob/master/z_project/Keras_Architecture_VGG19_Version2.ipynb\" target=\"_parent\"><img src=\"https://colab.research.google.com/assets/colab-badge.svg\" alt=\"Open In Colab\"/></a>"
      ]
    },
    {
      "cell_type": "code",
      "metadata": {
        "id": "2v9yI0APU_xN",
        "colab_type": "code",
        "colab": {}
      },
      "source": [
        "###part 0\n",
        "from tensorflow.keras import Input, layers, models\n",
        "from tensorflow.keras import optimizers, regularizers\n",
        "from tensorflow.keras.applications import VGG19\n",
        "\n",
        "import numpy as np"
      ],
      "execution_count": 1,
      "outputs": []
    },
    {
      "cell_type": "code",
      "metadata": {
        "id": "FrU1oUCZX73Q",
        "colab_type": "code",
        "colab": {
          "base_uri": "https://localhost:8080/",
          "height": 1000
        },
        "outputId": "0d209ed7-eccc-4e3e-b111-082360b3cd25"
      },
      "source": [
        "\n",
        "#vgg19 모델 불러오기\n",
        "pre_trained_vgg = VGG19(weights='imagenet', include_top=False, input_shape=(256, 256, 3))\n",
        "pre_trained_vgg.trainable = False\n",
        "pre_trained_vgg.summary()"
      ],
      "execution_count": 2,
      "outputs": [
        {
          "output_type": "stream",
          "text": [
            "Downloading data from https://storage.googleapis.com/tensorflow/keras-applications/vgg19/vgg19_weights_tf_dim_ordering_tf_kernels_notop.h5\n",
            "80142336/80134624 [==============================] - 1s 0us/step\n",
            "Model: \"vgg19\"\n",
            "_________________________________________________________________\n",
            "Layer (type)                 Output Shape              Param #   \n",
            "=================================================================\n",
            "input_1 (InputLayer)         [(None, 256, 256, 3)]     0         \n",
            "_________________________________________________________________\n",
            "block1_conv1 (Conv2D)        (None, 256, 256, 64)      1792      \n",
            "_________________________________________________________________\n",
            "block1_conv2 (Conv2D)        (None, 256, 256, 64)      36928     \n",
            "_________________________________________________________________\n",
            "block1_pool (MaxPooling2D)   (None, 128, 128, 64)      0         \n",
            "_________________________________________________________________\n",
            "block2_conv1 (Conv2D)        (None, 128, 128, 128)     73856     \n",
            "_________________________________________________________________\n",
            "block2_conv2 (Conv2D)        (None, 128, 128, 128)     147584    \n",
            "_________________________________________________________________\n",
            "block2_pool (MaxPooling2D)   (None, 64, 64, 128)       0         \n",
            "_________________________________________________________________\n",
            "block3_conv1 (Conv2D)        (None, 64, 64, 256)       295168    \n",
            "_________________________________________________________________\n",
            "block3_conv2 (Conv2D)        (None, 64, 64, 256)       590080    \n",
            "_________________________________________________________________\n",
            "block3_conv3 (Conv2D)        (None, 64, 64, 256)       590080    \n",
            "_________________________________________________________________\n",
            "block3_conv4 (Conv2D)        (None, 64, 64, 256)       590080    \n",
            "_________________________________________________________________\n",
            "block3_pool (MaxPooling2D)   (None, 32, 32, 256)       0         \n",
            "_________________________________________________________________\n",
            "block4_conv1 (Conv2D)        (None, 32, 32, 512)       1180160   \n",
            "_________________________________________________________________\n",
            "block4_conv2 (Conv2D)        (None, 32, 32, 512)       2359808   \n",
            "_________________________________________________________________\n",
            "block4_conv3 (Conv2D)        (None, 32, 32, 512)       2359808   \n",
            "_________________________________________________________________\n",
            "block4_conv4 (Conv2D)        (None, 32, 32, 512)       2359808   \n",
            "_________________________________________________________________\n",
            "block4_pool (MaxPooling2D)   (None, 16, 16, 512)       0         \n",
            "_________________________________________________________________\n",
            "block5_conv1 (Conv2D)        (None, 16, 16, 512)       2359808   \n",
            "_________________________________________________________________\n",
            "block5_conv2 (Conv2D)        (None, 16, 16, 512)       2359808   \n",
            "_________________________________________________________________\n",
            "block5_conv3 (Conv2D)        (None, 16, 16, 512)       2359808   \n",
            "_________________________________________________________________\n",
            "block5_conv4 (Conv2D)        (None, 16, 16, 512)       2359808   \n",
            "_________________________________________________________________\n",
            "block5_pool (MaxPooling2D)   (None, 8, 8, 512)         0         \n",
            "=================================================================\n",
            "Total params: 20,024,384\n",
            "Trainable params: 0\n",
            "Non-trainable params: 20,024,384\n",
            "_________________________________________________________________\n"
          ],
          "name": "stdout"
        }
      ]
    },
    {
      "cell_type": "code",
      "metadata": {
        "id": "stxm93w_eGFf",
        "colab_type": "code",
        "colab": {
          "base_uri": "https://localhost:8080/",
          "height": 485
        },
        "outputId": "bf6d6184-3926-4e32-f3f6-1c94ca35989c"
      },
      "source": [
        "# vgg19 밑에 레이어 추가\n",
        "from tensorflow import keras\n",
        "\n",
        "model = models.Sequential()\n",
        "model.add(pre_trained_vgg)\n",
        "model.add(layers.Flatten())\n",
        "model.add(layers.Dense(4096, kernel_regularizer = regularizers.l1_l2(l1=0.001,l2=0.001),activation='relu'))\n",
        "model.add(layers.Dropout(0.5))\n",
        "model.add(layers.Dense(2048, kernel_regularizer = regularizers.l1_l2(l1=0.001,l2=0.001),activation='relu'))\n",
        "model.add(layers.Dropout(0.5))\n",
        "model.add(layers.Dense(1024, kernel_regularizer = regularizers.l1_l2(l1=0.001,l2=0.001),activation='relu'))\n",
        "model.add(layers.Dropout(0.5))\n",
        "model.add(layers.Dense(9, activation='softmax'))\n",
        "\n",
        "callbacks_list = [keras.callbacks.EarlyStopping(monitor = 'val_acc',\n",
        "                                                patience = 5),\n",
        "                 keras.callbacks.ModelCheckpoint(filepath='model.h5',\n",
        "                                                    monitor = 'val_loss',\n",
        "                                                    save_best_only = True)]\n",
        "\n",
        "model.compile(loss='sparse_categorical_crossentropy', optimizer='adam', metrics=['acc'])\n",
        "\n",
        "model.summary()"
      ],
      "execution_count": 3,
      "outputs": [
        {
          "output_type": "stream",
          "text": [
            "Model: \"sequential\"\n",
            "_________________________________________________________________\n",
            "Layer (type)                 Output Shape              Param #   \n",
            "=================================================================\n",
            "vgg19 (Functional)           (None, 8, 8, 512)         20024384  \n",
            "_________________________________________________________________\n",
            "flatten (Flatten)            (None, 32768)             0         \n",
            "_________________________________________________________________\n",
            "dense (Dense)                (None, 4096)              134221824 \n",
            "_________________________________________________________________\n",
            "dropout (Dropout)            (None, 4096)              0         \n",
            "_________________________________________________________________\n",
            "dense_1 (Dense)              (None, 2048)              8390656   \n",
            "_________________________________________________________________\n",
            "dropout_1 (Dropout)          (None, 2048)              0         \n",
            "_________________________________________________________________\n",
            "dense_2 (Dense)              (None, 1024)              2098176   \n",
            "_________________________________________________________________\n",
            "dropout_2 (Dropout)          (None, 1024)              0         \n",
            "_________________________________________________________________\n",
            "dense_3 (Dense)              (None, 9)                 9225      \n",
            "=================================================================\n",
            "Total params: 164,744,265\n",
            "Trainable params: 144,719,881\n",
            "Non-trainable params: 20,024,384\n",
            "_________________________________________________________________\n"
          ],
          "name": "stdout"
        }
      ]
    },
    {
      "cell_type": "code",
      "metadata": {
        "id": "_W5PCmCwo2aR",
        "colab_type": "code",
        "colab": {
          "base_uri": "https://localhost:8080/",
          "height": 127
        },
        "outputId": "c22501f7-5ed6-4f70-bc05-98b706df9d5e"
      },
      "source": [
        "from google.colab import drive\n",
        "drive.mount(\"/content/drive\")"
      ],
      "execution_count": 4,
      "outputs": [
        {
          "output_type": "stream",
          "text": [
            "Go to this URL in a browser: https://accounts.google.com/o/oauth2/auth?client_id=947318989803-6bn6qk8qdgf4n4g3pfee6491hc0brc4i.apps.googleusercontent.com&redirect_uri=urn%3aietf%3awg%3aoauth%3a2.0%3aoob&scope=email%20https%3a%2f%2fwww.googleapis.com%2fauth%2fdocs.test%20https%3a%2f%2fwww.googleapis.com%2fauth%2fdrive%20https%3a%2f%2fwww.googleapis.com%2fauth%2fdrive.photos.readonly%20https%3a%2f%2fwww.googleapis.com%2fauth%2fpeopleapi.readonly&response_type=code\n",
            "\n",
            "Enter your authorization code:\n",
            "··········\n",
            "Mounted at /content/drive\n"
          ],
          "name": "stdout"
        }
      ]
    },
    {
      "cell_type": "code",
      "metadata": {
        "id": "A1zEOeEoggWz",
        "colab_type": "code",
        "colab": {
          "base_uri": "https://localhost:8080/",
          "height": 721
        },
        "outputId": "220abd70-ee07-49b1-e979-0aa0b39c8e19"
      },
      "source": [
        "### part 2\n",
        "\n",
        "X_train, X_test, y_train, y_test = np.load('drive/My Drive/Project/9labels_unknwon_mixed.npy', allow_pickle=True)\n",
        "\n",
        "print(X_train.shape)\n",
        "\n",
        "X_train = X_train.astype(float) / 255.0\n",
        "X_test = X_test.astype(float) / 255.0\n",
        "\n",
        "history = model.fit(X_train, y_train, batch_size = 16, epochs = 50, callbacks=callbacks_list, validation_data = (X_test, y_test))\n",
        "\n",
        "score = model.evaluate(X_test, y_test)"
      ],
      "execution_count": 5,
      "outputs": [
        {
          "output_type": "stream",
          "text": [
            "(481, 256, 256, 3)\n",
            "Epoch 1/50\n",
            "31/31 [==============================] - 25s 803ms/step - loss: 403.5473 - acc: 0.1642 - val_loss: 163.4079 - val_acc: 0.1925\n",
            "Epoch 2/50\n",
            "31/31 [==============================] - 50s 2s/step - loss: 118.8788 - acc: 0.3098 - val_loss: 89.1073 - val_acc: 0.5093\n",
            "Epoch 3/50\n",
            "31/31 [==============================] - 41s 1s/step - loss: 79.7214 - acc: 0.4491 - val_loss: 71.8634 - val_acc: 0.5901\n",
            "Epoch 4/50\n",
            "31/31 [==============================] - 47s 2s/step - loss: 68.4124 - acc: 0.5239 - val_loss: 63.4278 - val_acc: 0.8012\n",
            "Epoch 5/50\n",
            "31/31 [==============================] - 46s 1s/step - loss: 61.4047 - acc: 0.5988 - val_loss: 58.0168 - val_acc: 0.7702\n",
            "Epoch 6/50\n",
            "31/31 [==============================] - 45s 1s/step - loss: 55.6636 - acc: 0.6923 - val_loss: 52.8778 - val_acc: 0.8012\n",
            "Epoch 7/50\n",
            "31/31 [==============================] - 46s 1s/step - loss: 51.2456 - acc: 0.7110 - val_loss: 48.2765 - val_acc: 0.8509\n",
            "Epoch 8/50\n",
            "31/31 [==============================] - 43s 1s/step - loss: 47.5454 - acc: 0.6798 - val_loss: 44.5284 - val_acc: 0.9565\n",
            "Epoch 9/50\n",
            "31/31 [==============================] - 46s 1s/step - loss: 43.3363 - acc: 0.7568 - val_loss: 40.9183 - val_acc: 0.8882\n",
            "Epoch 10/50\n",
            "31/31 [==============================] - 46s 1s/step - loss: 40.0447 - acc: 0.7526 - val_loss: 38.6997 - val_acc: 0.9255\n",
            "Epoch 11/50\n",
            "31/31 [==============================] - 45s 1s/step - loss: 38.5615 - acc: 0.7131 - val_loss: 36.9159 - val_acc: 0.9068\n",
            "Epoch 12/50\n",
            "31/31 [==============================] - 44s 1s/step - loss: 36.9089 - acc: 0.7235 - val_loss: 34.9293 - val_acc: 0.9627\n",
            "Epoch 13/50\n",
            "31/31 [==============================] - 47s 2s/step - loss: 34.3357 - acc: 0.7297 - val_loss: 32.5277 - val_acc: 1.0000\n",
            "Epoch 14/50\n",
            "31/31 [==============================] - 44s 1s/step - loss: 32.2580 - acc: 0.7505 - val_loss: 30.7239 - val_acc: 0.9627\n",
            "Epoch 15/50\n",
            "31/31 [==============================] - 45s 1s/step - loss: 30.4104 - acc: 0.7588 - val_loss: 28.9833 - val_acc: 1.0000\n",
            "Epoch 16/50\n",
            "31/31 [==============================] - 43s 1s/step - loss: 28.8785 - acc: 0.7651 - val_loss: 27.5993 - val_acc: 0.9627\n",
            "Epoch 17/50\n",
            "31/31 [==============================] - 48s 2s/step - loss: 27.5826 - acc: 0.7568 - val_loss: 26.5648 - val_acc: 0.9441\n",
            "Epoch 18/50\n",
            "31/31 [==============================] - 40s 1s/step - loss: 26.4743 - acc: 0.7110 - val_loss: 25.8301 - val_acc: 0.9379\n",
            "6/6 [==============================] - 2s 250ms/step - loss: 25.8301 - acc: 0.9379\n"
          ],
          "name": "stdout"
        }
      ]
    },
    {
      "cell_type": "code",
      "metadata": {
        "id": "RjF-mIyBh2ch",
        "colab_type": "code",
        "colab": {
          "base_uri": "https://localhost:8080/",
          "height": 545
        },
        "outputId": "973a093d-886a-4bee-ce93-56c6e330221c"
      },
      "source": [
        "acc = history.history['acc']\n",
        "val_acc = history.history['val_acc']\n",
        "loss = history.history['loss']\n",
        "val_loss = history.history['val_loss']\n",
        "\n",
        "epochs = range(len(acc))\n",
        "import matplotlib.pyplot as plt\n",
        "\n",
        "plt.plot(epochs, acc, 'bo', label='Training acc')\n",
        "plt.plot(epochs, val_acc, 'b', label='Validation acc')\n",
        "plt.title('Training and validation accuracy')\n",
        "plt.legend()\n",
        "\n",
        "plt.figure()\n",
        "\n",
        "plt.plot(epochs, loss, 'bo', label='Training loss')\n",
        "plt.plot(epochs, val_loss, 'b', label='Validation loss')\n",
        "plt.title('Training and validation loss')\n",
        "plt.legend()\n",
        "\n",
        "plt.show()"
      ],
      "execution_count": 6,
      "outputs": [
        {
          "output_type": "display_data",
          "data": {
            "image/png": "[encoded data removed]",
            "text/plain": [
              "<Figure size 432x288 with 1 Axes>"
            ]
          },
          "metadata": {
            "tags": [],
            "needs_background": "light"
          }
        },
        {
          "output_type": "display_data",
          "data": {
            "image/png": "[encoded data removed]",
            "text/plain": [
              "<Figure size 432x288 with 1 Axes>"
            ]
          },
          "metadata": {
            "tags": [],
            "needs_background": "light"
          }
        }
      ]
    },
    {
      "cell_type": "code",
      "metadata": {
        "id": "K-KGDUz_bO6H",
        "colab_type": "code",
        "colab": {
          "base_uri": "https://localhost:8080/",
          "height": 53
        },
        "outputId": "270f236d-7cc7-454a-f39e-9a19e8bce4fe"
      },
      "source": [
        "### part 3 이미지 잘 분류하나 확인하기\n",
        "\n",
        "from tensorflow.keras.preprocessing import image\n",
        "\n",
        "\n",
        "img = image.load_img('hock14.jpg')\n",
        "img = image.img_to_array(img)\n",
        "img = np.expand_dims(img, axis=0)\n",
        "img = img.astype(float) / 255\n",
        "model.predict(img)"
      ],
      "execution_count": 10,
      "outputs": [
        {
          "output_type": "execute_result",
          "data": {
            "text/plain": [
              "array([[0.10087182, 0.32651997, 0.04167801, 0.20664594, 0.03407995,\n",
              "        0.06749188, 0.0380106 , 0.13712986, 0.04757196]], dtype=float32)"
            ]
          },
          "metadata": {
            "tags": []
          },
          "execution_count": 10
        }
      ]
    },
    {
      "cell_type": "code",
      "metadata": {
        "id": "W1DAAA8UboCI",
        "colab_type": "code",
        "colab": {
          "base_uri": "https://localhost:8080/",
          "height": 53
        },
        "outputId": "5d211dc6-b9bf-49ac-8a64-f7d7761a397e"
      },
      "source": [
        "### part 3 이미지 잘 분류하나 확인하기\n",
        "\n",
        "from tensorflow.keras.preprocessing import image\n",
        "\n",
        "\n",
        "img = image.load_img('hock6.jpg')\n",
        "img = image.img_to_array(img)\n",
        "img = np.expand_dims(img, axis=0)\n",
        "img = img.astype(float) / 255\n",
        "model.predict(img)"
      ],
      "execution_count": 22,
      "outputs": [
        {
          "output_type": "execute_result",
          "data": {
            "text/plain": [
              "array([[0.17850204, 0.43966538, 0.03811057, 0.14242148, 0.02389002,\n",
              "        0.06606182, 0.02115861, 0.05913603, 0.03105399]], dtype=float32)"
            ]
          },
          "metadata": {
            "tags": []
          },
          "execution_count": 22
        }
      ]
    },
    {
      "cell_type": "code",
      "metadata": {
        "id": "wz23DpkH86X7",
        "colab_type": "code",
        "colab": {
          "base_uri": "https://localhost:8080/",
          "height": 71
        },
        "outputId": "23327d7b-33cf-489b-a6f9-89eb1fe6c8e1"
      },
      "source": [
        "### part 3 이미지 잘 분류하나 확인하기\n",
        "\n",
        "from tensorflow.keras.preprocessing import image\n",
        "\n",
        "\n",
        "img = image.load_img('hui8.jpg')\n",
        "img = image.img_to_array(img)\n",
        "img = np.expand_dims(img, axis=0)\n",
        "img = img.astype(float) / 255\n",
        "model.predict(img)"
      ],
      "execution_count": 23,
      "outputs": [
        {
          "output_type": "execute_result",
          "data": {
            "text/plain": [
              "array([[2.4050692e-04, 9.9809557e-01, 1.0028813e-04, 3.4343841e-05,\n",
              "        5.0320526e-05, 1.1964576e-04, 2.8734719e-06, 1.2474130e-03,\n",
              "        1.0899326e-04]], dtype=float32)"
            ]
          },
          "metadata": {
            "tags": []
          },
          "execution_count": 23
        }
      ]
    },
    {
      "cell_type": "code",
      "metadata": {
        "id": "HTNPF2s1bonE",
        "colab_type": "code",
        "colab": {
          "base_uri": "https://localhost:8080/",
          "height": 53
        },
        "outputId": "b303a60c-f12f-437f-e084-0958e90c98ba"
      },
      "source": [
        "### part 3 이미지 잘 분류하나 확인하기\n",
        "\n",
        "from tensorflow.keras.preprocessing import image\n",
        "\n",
        "\n",
        "img = image.load_img('ji38.jpg')\n",
        "img = image.img_to_array(img)\n",
        "img = np.expand_dims(img, axis=0)\n",
        "img = img.astype(float) / 255\n",
        "model.predict(img)"
      ],
      "execution_count": 13,
      "outputs": [
        {
          "output_type": "execute_result",
          "data": {
            "text/plain": [
              "array([[0.00258832, 0.01174481, 0.8624565 , 0.00126946, 0.00269361,\n",
              "        0.10394734, 0.00181903, 0.001594  , 0.01188689]], dtype=float32)"
            ]
          },
          "metadata": {
            "tags": []
          },
          "execution_count": 13
        }
      ]
    },
    {
      "cell_type": "code",
      "metadata": {
        "id": "ZCIvPvWrbGrV",
        "colab_type": "code",
        "colab": {
          "base_uri": "https://localhost:8080/",
          "height": 53
        },
        "outputId": "77d2b320-c4e0-4ea3-a5bb-d038fd66695f"
      },
      "source": [
        "### part 3 이미지 잘 분류하나 확인하기\n",
        "\n",
        "from tensorflow.keras.preprocessing import image\n",
        "\n",
        "\n",
        "img = image.load_img('moon10.jpg')\n",
        "img = image.img_to_array(img)\n",
        "img = np.expand_dims(img, axis=0)\n",
        "img = img.astype(float) / 255\n",
        "model.predict(img)"
      ],
      "execution_count": 9,
      "outputs": [
        {
          "output_type": "execute_result",
          "data": {
            "text/plain": [
              "array([[0.0460413 , 0.09054531, 0.02412029, 0.527693  , 0.011826  ,\n",
              "        0.1026784 , 0.06062732, 0.11549161, 0.02097686]], dtype=float32)"
            ]
          },
          "metadata": {
            "tags": []
          },
          "execution_count": 9
        }
      ]
    },
    {
      "cell_type": "code",
      "metadata": {
        "id": "w7KCw6Gla-zb",
        "colab_type": "code",
        "colab": {
          "base_uri": "https://localhost:8080/",
          "height": 53
        },
        "outputId": "877c77c1-2129-463d-baf7-e9e3bf00b6c7"
      },
      "source": [
        "### part 3 이미지 잘 분류하나 확인하기\n",
        "\n",
        "from tensorflow.keras.preprocessing import image\n",
        "\n",
        "\n",
        "img = image.load_img('rok16.jpg')\n",
        "img = image.img_to_array(img)\n",
        "img = np.expand_dims(img, axis=0)\n",
        "img = img.astype(float) / 255\n",
        "model.predict(img)"
      ],
      "execution_count": 8,
      "outputs": [
        {
          "output_type": "execute_result",
          "data": {
            "text/plain": [
              "array([[0.00414254, 0.01632177, 0.00393868, 0.00123281, 0.84316957,\n",
              "        0.00329113, 0.01716926, 0.00646055, 0.10427368]], dtype=float32)"
            ]
          },
          "metadata": {
            "tags": []
          },
          "execution_count": 8
        }
      ]
    },
    {
      "cell_type": "code",
      "metadata": {
        "id": "UlmcFRZ7bs3m",
        "colab_type": "code",
        "colab": {
          "base_uri": "https://localhost:8080/",
          "height": 71
        },
        "outputId": "42e5851a-62ce-4306-8978-2769a4e9b48e"
      },
      "source": [
        "### part 3 이미지 잘 분류하나 확인하기\n",
        "\n",
        "from tensorflow.keras.preprocessing import image\n",
        "\n",
        "\n",
        "img = image.load_img('sk18.jpg')\n",
        "img = image.img_to_array(img)\n",
        "img = np.expand_dims(img, axis=0)\n",
        "img = img.astype(float) / 255\n",
        "model.predict(img)"
      ],
      "execution_count": 14,
      "outputs": [
        {
          "output_type": "execute_result",
          "data": {
            "text/plain": [
              "array([[4.3900649e-04, 7.0340284e-03, 8.9650517e-03, 8.3926524e-04,\n",
              "        3.0034644e-04, 9.7443527e-01, 4.2228410e-03, 2.6083950e-04,\n",
              "        3.5032858e-03]], dtype=float32)"
            ]
          },
          "metadata": {
            "tags": []
          },
          "execution_count": 14
        }
      ]
    },
    {
      "cell_type": "code",
      "metadata": {
        "id": "y44qIT13bw5M",
        "colab_type": "code",
        "colab": {
          "base_uri": "https://localhost:8080/",
          "height": 71
        },
        "outputId": "95655fb1-9322-45d3-b926-768e16f72844"
      },
      "source": [
        "### part 3 이미지 잘 분류하나 확인하기\n",
        "\n",
        "from tensorflow.keras.preprocessing import image\n",
        "\n",
        "\n",
        "img = image.load_img('sk38.jpg')\n",
        "img = image.img_to_array(img)\n",
        "img = np.expand_dims(img, axis=0)\n",
        "img = img.astype(float) / 255\n",
        "model.predict(img)"
      ],
      "execution_count": 15,
      "outputs": [
        {
          "output_type": "execute_result",
          "data": {
            "text/plain": [
              "array([[4.7617932e-04, 8.4700324e-03, 9.3226265e-03, 8.8839908e-04,\n",
              "        3.2659195e-04, 9.7227651e-01, 4.1433536e-03, 2.9502873e-04,\n",
              "        3.8012869e-03]], dtype=float32)"
            ]
          },
          "metadata": {
            "tags": []
          },
          "execution_count": 15
        }
      ]
    },
    {
      "cell_type": "code",
      "metadata": {
        "id": "CaxMbBLSb0k6",
        "colab_type": "code",
        "colab": {
          "base_uri": "https://localhost:8080/",
          "height": 53
        },
        "outputId": "6144c174-7f59-4bef-a80e-8bee69121fca"
      },
      "source": [
        "### part 3 이미지 잘 분류하나 확인하기\n",
        "\n",
        "from tensorflow.keras.preprocessing import image\n",
        "\n",
        "\n",
        "img = image.load_img('tae156.jpg')\n",
        "img = image.img_to_array(img)\n",
        "img = np.expand_dims(img, axis=0)\n",
        "img = img.astype(float) / 255\n",
        "model.predict(img)"
      ],
      "execution_count": 16,
      "outputs": [
        {
          "output_type": "execute_result",
          "data": {
            "text/plain": [
              "array([[0.00531155, 0.00134027, 0.00345784, 0.0362188 , 0.00700772,\n",
              "        0.07402094, 0.85916865, 0.00563634, 0.00783792]], dtype=float32)"
            ]
          },
          "metadata": {
            "tags": []
          },
          "execution_count": 16
        }
      ]
    },
    {
      "cell_type": "code",
      "metadata": {
        "id": "_4mavXcX9gSS",
        "colab_type": "code",
        "colab": {
          "base_uri": "https://localhost:8080/",
          "height": 53
        },
        "outputId": "7380e117-6efb-4d9c-b214-75425cc83f1c"
      },
      "source": [
        "### part 3 이미지 잘 분류하나 확인하기\n",
        "\n",
        "from tensorflow.keras.preprocessing import image\n",
        "\n",
        "\n",
        "img = image.load_img('su141.jpg')\n",
        "img = image.img_to_array(img)\n",
        "img = np.expand_dims(img, axis=0)\n",
        "img = img.astype(float) / 255\n",
        "model.predict(img)"
      ],
      "execution_count": 17,
      "outputs": [
        {
          "output_type": "execute_result",
          "data": {
            "text/plain": [
              "array([[0.00626085, 0.29045662, 0.005897  , 0.02473189, 0.01368529,\n",
              "        0.00581675, 0.00664868, 0.635462  , 0.01104086]], dtype=float32)"
            ]
          },
          "metadata": {
            "tags": []
          },
          "execution_count": 17
        }
      ]
    },
    {
      "cell_type": "code",
      "metadata": {
        "id": "2Kd3rgWD9mSr",
        "colab_type": "code",
        "colab": {
          "base_uri": "https://localhost:8080/",
          "height": 53
        },
        "outputId": "8aadc75d-7372-4a23-93f4-99e8442311e8"
      },
      "source": [
        "### part 3 이미지 잘 분류하나 확인하기\n",
        "\n",
        "from tensorflow.keras.preprocessing import image\n",
        "\n",
        "\n",
        "img = image.load_img('hye66.jpg')\n",
        "img = image.img_to_array(img)\n",
        "img = np.expand_dims(img, axis=0)\n",
        "img = img.astype(float) / 255\n",
        "model.predict(img)"
      ],
      "execution_count": 18,
      "outputs": [
        {
          "output_type": "execute_result",
          "data": {
            "text/plain": [
              "array([[0.00758425, 0.3707197 , 0.00693519, 0.03417253, 0.01239343,\n",
              "        0.00985847, 0.00752422, 0.5348715 , 0.01594079]], dtype=float32)"
            ]
          },
          "metadata": {
            "tags": []
          },
          "execution_count": 18
        }
      ]
    },
    {
      "cell_type": "code",
      "metadata": {
        "id": "ozl5srHy9rUM",
        "colab_type": "code",
        "colab": {
          "base_uri": "https://localhost:8080/",
          "height": 71
        },
        "outputId": "bc0150fb-191f-42c2-bab8-0cfb98745617"
      },
      "source": [
        "### part 3 이미지 잘 분류하나 확인하기\n",
        "\n",
        "from tensorflow.keras.preprocessing import image\n",
        "\n",
        "\n",
        "img = image.load_img('yoon86.jpg')\n",
        "img = image.img_to_array(img)\n",
        "img = np.expand_dims(img, axis=0)\n",
        "img = img.astype(float) / 255\n",
        "model.predict(img)"
      ],
      "execution_count": 19,
      "outputs": [
        {
          "output_type": "execute_result",
          "data": {
            "text/plain": [
              "array([[7.9606616e-05, 3.4399446e-02, 4.4304295e-05, 3.4098576e-03,\n",
              "        4.1461328e-05, 4.5780031e-05, 4.5752360e-05, 9.6189827e-01,\n",
              "        3.5551562e-05]], dtype=float32)"
            ]
          },
          "metadata": {
            "tags": []
          },
          "execution_count": 19
        }
      ]
    },
    {
      "cell_type": "code",
      "metadata": {
        "id": "jkk7Lq7U93dC",
        "colab_type": "code",
        "colab": {
          "base_uri": "https://localhost:8080/",
          "height": 53
        },
        "outputId": "10db6bf8-24d1-496a-8223-a8c0874b2dd3"
      },
      "source": [
        "### part 3 이미지 잘 분류하나 확인하기\n",
        "\n",
        "from tensorflow.keras.preprocessing import image\n",
        "\n",
        "\n",
        "img = image.load_img('yang43.jpg')\n",
        "img = image.img_to_array(img)\n",
        "img = np.expand_dims(img, axis=0)\n",
        "img = img.astype(float) / 255\n",
        "model.predict(img)"
      ],
      "execution_count": 21,
      "outputs": [
        {
          "output_type": "execute_result",
          "data": {
            "text/plain": [
              "array([[0.00347952, 0.05226571, 0.01856849, 0.00298302, 0.04309804,\n",
              "        0.03177145, 0.00534457, 0.00654506, 0.8359442 ]], dtype=float32)"
            ]
          },
          "metadata": {
            "tags": []
          },
          "execution_count": 21
        }
      ]
    },
    {
      "cell_type": "code",
      "metadata": {
        "id": "WOdmtFerb32M",
        "colab_type": "code",
        "colab": {}
      },
      "source": [
        "model.save(\"vgg19_9model.h5\")"
      ],
      "execution_count": 24,
      "outputs": []
    },
    {
      "cell_type": "code",
      "metadata": {
        "id": "XcuQgPc-b8nr",
        "colab_type": "code",
        "colab": {
          "base_uri": "https://localhost:8080/",
          "height": 53
        },
        "outputId": "75175dcf-9a0c-49a5-de93-21317bacf76e"
      },
      "source": [
        "### part 3 이미지 잘 분류하나 확인하기\n",
        "\n",
        "from tensorflow.keras.preprocessing import image\n",
        "\n",
        "\n",
        "img = image.load_img('sdddd.jpg', target_size=(256, 256))\n",
        "img = image.img_to_array(img)\n",
        "img = np.expand_dims(img, axis=0)\n",
        "img = img.astype(float) / 255\n",
        "model.predict(img)"
      ],
      "execution_count": 27,
      "outputs": [
        {
          "output_type": "execute_result",
          "data": {
            "text/plain": [
              "array([[0.02112474, 0.5479188 , 0.0405183 , 0.04027485, 0.03400387,\n",
              "        0.09864745, 0.02635038, 0.13499385, 0.05616781]], dtype=float32)"
            ]
          },
          "metadata": {
            "tags": []
          },
          "execution_count": 27
        }
      ]
    },
    {
      "cell_type": "code",
      "metadata": {
        "id": "SDDqqSMycCoy",
        "colab_type": "code",
        "colab": {}
      },
      "source": [
        "img = image.load_img('frame17.jpg', target_size=(128, 128))\n",
        "img = image.img_to_array(img)\n",
        "img = np.expand_dims(img, axis=0)\n",
        "img = img.astype(float) / 255\n",
        "model.predict(img)"
      ],
      "execution_count": null,
      "outputs": []
    },
    {
      "cell_type": "code",
      "metadata": {
        "id": "O3KQv0OzcGJO",
        "colab_type": "code",
        "colab": {}
      },
      "source": [
        "img = image.load_img('frame594.jpg', target_size=(128, 128))\n",
        "img = image.img_to_array(img)\n",
        "img = np.expand_dims(img, axis=0)\n",
        "img = img.astype(float) / 255\n",
        "model.predict(img)"
      ],
      "execution_count": null,
      "outputs": []
    },
    {
      "cell_type": "code",
      "metadata": {
        "id": "VOZvhmYucNJU",
        "colab_type": "code",
        "colab": {}
      },
      "source": [
        "img = image.load_img('frame23.jpg', target_size=(128, 128))\n",
        "img = image.img_to_array(img)\n",
        "img = np.expand_dims(img, axis=0)\n",
        "img = img.astype(float) / 255\n",
        "model.predict(img)"
      ],
      "execution_count": null,
      "outputs": []
    }
  ]
}