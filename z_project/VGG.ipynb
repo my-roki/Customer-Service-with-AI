{
  "nbformat": 4,
  "nbformat_minor": 0,
  "metadata": {
    "colab": {
      "name": "VGG.ipynb",
      "provenance": [],
      "collapsed_sections": []
    },
    "kernelspec": {
      "name": "python3",
      "display_name": "Python 3"
    },
    "accelerator": "GPU"
  },
  "cells": [
    {
      "cell_type": "code",
      "metadata": {
        "id": "2v9yI0APU_xN",
        "colab_type": "code",
        "colab": {}
      },
      "source": [
        "from sklearn.model_selection import train_test_split\n",
        "from keras.models import Sequential\n",
        "from keras.layers import Conv2D, MaxPooling2D, Dense, Flatten, Dropout\n",
        "from keras.callbacks import EarlyStopping, ModelCheckpoint\n",
        "import matplotlib.pyplot as plt\n",
        "import tensorflow as tf\n",
        "from keras import regularizers\n",
        "from keras import layers, models\n",
        "from keras.applications import VGG16\n",
        "from keras import Input\n",
        "from keras.models import Model\n",
        "from keras import optimizers, initializers, regularizers, metrics\n",
        "from keras.callbacks import ModelCheckpoint\n",
        "import os\n",
        "from glob import glob\n",
        "from PIL import Image\n",
        "import numpy as np"
      ],
      "execution_count": 13,
      "outputs": []
    },
    {
      "cell_type": "code",
      "metadata": {
        "id": "FrU1oUCZX73Q",
        "colab_type": "code",
        "colab": {
          "base_uri": "https://localhost:8080/",
          "height": 845
        },
        "outputId": "de86ba35-5517-4d1f-fe4f-9477e8ae7f4d"
      },
      "source": [
        "input_tensor = Input(shape=(64, 64, 3), dtype='float32', name='input')\n",
        "\n",
        "#vgg16 모델 불러오기\n",
        "pre_trained_vgg = VGG16(weights='imagenet', include_top=False, input_shape=(64, 64, 3))\n",
        "pre_trained_vgg.trainable = False\n",
        "pre_trained_vgg.summary()"
      ],
      "execution_count": 14,
      "outputs": [
        {
          "output_type": "stream",
          "text": [
            "Model: \"vgg16\"\n",
            "_________________________________________________________________\n",
            "Layer (type)                 Output Shape              Param #   \n",
            "=================================================================\n",
            "input_2 (InputLayer)         [(None, 64, 64, 3)]       0         \n",
            "_________________________________________________________________\n",
            "block1_conv1 (Conv2D)        (None, 64, 64, 64)        1792      \n",
            "_________________________________________________________________\n",
            "block1_conv2 (Conv2D)        (None, 64, 64, 64)        36928     \n",
            "_________________________________________________________________\n",
            "block1_pool (MaxPooling2D)   (None, 32, 32, 64)        0         \n",
            "_________________________________________________________________\n",
            "block2_conv1 (Conv2D)        (None, 32, 32, 128)       73856     \n",
            "_________________________________________________________________\n",
            "block2_conv2 (Conv2D)        (None, 32, 32, 128)       147584    \n",
            "_________________________________________________________________\n",
            "block2_pool (MaxPooling2D)   (None, 16, 16, 128)       0         \n",
            "_________________________________________________________________\n",
            "block3_conv1 (Conv2D)        (None, 16, 16, 256)       295168    \n",
            "_________________________________________________________________\n",
            "block3_conv2 (Conv2D)        (None, 16, 16, 256)       590080    \n",
            "_________________________________________________________________\n",
            "block3_conv3 (Conv2D)        (None, 16, 16, 256)       590080    \n",
            "_________________________________________________________________\n",
            "block3_pool (MaxPooling2D)   (None, 8, 8, 256)         0         \n",
            "_________________________________________________________________\n",
            "block4_conv1 (Conv2D)        (None, 8, 8, 512)         1180160   \n",
            "_________________________________________________________________\n",
            "block4_conv2 (Conv2D)        (None, 8, 8, 512)         2359808   \n",
            "_________________________________________________________________\n",
            "block4_conv3 (Conv2D)        (None, 8, 8, 512)         2359808   \n",
            "_________________________________________________________________\n",
            "block4_pool (MaxPooling2D)   (None, 4, 4, 512)         0         \n",
            "_________________________________________________________________\n",
            "block5_conv1 (Conv2D)        (None, 4, 4, 512)         2359808   \n",
            "_________________________________________________________________\n",
            "block5_conv2 (Conv2D)        (None, 4, 4, 512)         2359808   \n",
            "_________________________________________________________________\n",
            "block5_conv3 (Conv2D)        (None, 4, 4, 512)         2359808   \n",
            "_________________________________________________________________\n",
            "block5_pool (MaxPooling2D)   (None, 2, 2, 512)         0         \n",
            "=================================================================\n",
            "Total params: 14,714,688\n",
            "Trainable params: 0\n",
            "Non-trainable params: 14,714,688\n",
            "_________________________________________________________________\n"
          ],
          "name": "stdout"
        }
      ]
    },
    {
      "cell_type": "code",
      "metadata": {
        "id": "stxm93w_eGFf",
        "colab_type": "code",
        "colab": {}
      },
      "source": [
        "#vgg16 밑에 레이어 추가\n",
        "additional_model = models.Sequential()\n",
        "additional_model.add(pre_trained_vgg)\n",
        "additional_model.add(layers.Flatten())\n",
        "additional_model.add(layers.Dense(4096, kernel_regularizer = regularizers.l1_l2\n",
        "                                  (l1=0.001,l2=0.001),activation='relu'))\n",
        "additional_model.add(layers.Dropout(0.5))\n",
        "additional_model.add(layers.Dense(2048, kernel_regularizer = regularizers.l1_l2\n",
        "                                  (l1=0.001,l2=0.001),activation='relu'))\n",
        "additional_model.add(layers.Dropout(0.5))\n",
        "additional_model.add(layers.Dense(1024, kernel_regularizer = regularizers.l1_l2\n",
        "                                  (l1=0.001,l2=0.001),activation='relu'))\n",
        "additional_model.add(layers.Dropout(0.5))\n",
        "additional_model.add(layers.Dense(4, activation='softmax'))\n",
        "\n",
        "additional_model.compile(loss='categorical_crossentropy',\n",
        "              optimizer=optimizers.RMSprop(lr=1e-4),\n",
        "              metrics=['acc'])"
      ],
      "execution_count": 15,
      "outputs": []
    },
    {
      "cell_type": "code",
      "metadata": {
        "id": "WJT0CS8ZI1OQ",
        "colab_type": "code",
        "colab": {
          "base_uri": "https://localhost:8080/",
          "height": 485
        },
        "outputId": "a7fe13f1-684b-4878-ea00-6eae30ac7478"
      },
      "source": [
        "additional_model.summary()"
      ],
      "execution_count": 16,
      "outputs": [
        {
          "output_type": "stream",
          "text": [
            "Model: \"sequential_1\"\n",
            "_________________________________________________________________\n",
            "Layer (type)                 Output Shape              Param #   \n",
            "=================================================================\n",
            "vgg16 (Functional)           (None, 2, 2, 512)         14714688  \n",
            "_________________________________________________________________\n",
            "flatten_1 (Flatten)          (None, 2048)              0         \n",
            "_________________________________________________________________\n",
            "dense_4 (Dense)              (None, 4096)              8392704   \n",
            "_________________________________________________________________\n",
            "dropout_3 (Dropout)          (None, 4096)              0         \n",
            "_________________________________________________________________\n",
            "dense_5 (Dense)              (None, 2048)              8390656   \n",
            "_________________________________________________________________\n",
            "dropout_4 (Dropout)          (None, 2048)              0         \n",
            "_________________________________________________________________\n",
            "dense_6 (Dense)              (None, 1024)              2098176   \n",
            "_________________________________________________________________\n",
            "dropout_5 (Dropout)          (None, 1024)              0         \n",
            "_________________________________________________________________\n",
            "dense_7 (Dense)              (None, 4)                 4100      \n",
            "=================================================================\n",
            "Total params: 33,600,324\n",
            "Trainable params: 18,885,636\n",
            "Non-trainable params: 14,714,688\n",
            "_________________________________________________________________\n"
          ],
          "name": "stdout"
        }
      ]
    },
    {
      "cell_type": "code",
      "metadata": {
        "id": "A1zEOeEoggWz",
        "colab_type": "code",
        "colab": {
          "base_uri": "https://localhost:8080/",
          "height": 53
        },
        "outputId": "d9d79b1c-d2c9-4b79-9d6b-43a344daba93"
      },
      "source": [
        "X_train, X_test, y_train, y_test = np.load('trial.npy', allow_pickle=True)\n",
        "print(X_train.shape)\n",
        "print(X_train.shape[0])"
      ],
      "execution_count": 17,
      "outputs": [
        {
          "output_type": "stream",
          "text": [
            "(645, 64, 64, 3)\n",
            "645\n"
          ],
          "name": "stdout"
        }
      ]
    },
    {
      "cell_type": "code",
      "metadata": {
        "id": "1itjLjOUg3qV",
        "colab_type": "code",
        "colab": {}
      },
      "source": [
        "#일반화\n",
        "X_train = X_train.astype(float) / 255\n",
        "X_test = X_test.astype(float) / 255"
      ],
      "execution_count": 18,
      "outputs": []
    },
    {
      "cell_type": "code",
      "metadata": {
        "id": "LVog2fS63dp5",
        "colab_type": "code",
        "colab": {}
      },
      "source": [
        "# Our vectorized labels\n",
        "#y_train = np.asarray(y_train).astype('float32').reshape((-1,1))\n",
        "#y_test = np.asarray(y_test).astype('float32').reshape((-1,1))"
      ],
      "execution_count": null,
      "outputs": []
    },
    {
      "cell_type": "code",
      "metadata": {
        "id": "paFtY_EYhOPa",
        "colab_type": "code",
        "colab": {
          "base_uri": "https://localhost:8080/",
          "height": 377
        },
        "outputId": "77fb4e11-1858-4c37-ba62-9946145bf828"
      },
      "source": [
        "history = additional_model.fit(X_train, y_train, batch_size = 16,\n",
        "                               epochs = 10,\n",
        "                               validation_data = (X_test, y_test))"
      ],
      "execution_count": 19,
      "outputs": [
        {
          "output_type": "stream",
          "text": [
            "Epoch 1/10\n",
            "41/41 [==============================] - 3s 78ms/step - loss: 281.0401 - acc: 0.6264 - val_loss: 252.0921 - val_acc: 0.9306\n",
            "Epoch 2/10\n",
            "41/41 [==============================] - 2s 53ms/step - loss: 228.3839 - acc: 0.8434 - val_loss: 202.9284 - val_acc: 0.9630\n",
            "Epoch 3/10\n",
            "41/41 [==============================] - 2s 53ms/step - loss: 180.4701 - acc: 0.9504 - val_loss: 156.5108 - val_acc: 1.0000\n",
            "Epoch 4/10\n",
            "41/41 [==============================] - 2s 53ms/step - loss: 136.5431 - acc: 0.9659 - val_loss: 115.3412 - val_acc: 1.0000\n",
            "Epoch 5/10\n",
            "41/41 [==============================] - 2s 53ms/step - loss: 97.8404 - acc: 0.9860 - val_loss: 80.0648 - val_acc: 1.0000\n",
            "Epoch 6/10\n",
            "41/41 [==============================] - 2s 53ms/step - loss: 66.5141 - acc: 0.9814 - val_loss: 53.1383 - val_acc: 1.0000\n",
            "Epoch 7/10\n",
            "41/41 [==============================] - 2s 53ms/step - loss: 43.6425 - acc: 0.9876 - val_loss: 34.7495 - val_acc: 0.9954\n",
            "Epoch 8/10\n",
            "41/41 [==============================] - 2s 53ms/step - loss: 29.0623 - acc: 0.9860 - val_loss: 23.9636 - val_acc: 0.9954\n",
            "Epoch 9/10\n",
            "41/41 [==============================] - 2s 53ms/step - loss: 20.5488 - acc: 0.9783 - val_loss: 17.1612 - val_acc: 1.0000\n",
            "Epoch 10/10\n",
            "41/41 [==============================] - 2s 53ms/step - loss: 14.8430 - acc: 0.9628 - val_loss: 12.5140 - val_acc: 1.0000\n"
          ],
          "name": "stdout"
        }
      ]
    },
    {
      "cell_type": "code",
      "metadata": {
        "id": "RjF-mIyBh2ch",
        "colab_type": "code",
        "colab": {
          "base_uri": "https://localhost:8080/",
          "height": 545
        },
        "outputId": "74071a4e-00f8-438a-a7d0-b7619dc67aa3"
      },
      "source": [
        "acc = history.history['acc']\n",
        "val_acc = history.history['val_acc']\n",
        "loss = history.history['loss']\n",
        "val_loss = history.history['val_loss']\n",
        "\n",
        "epochs = range(len(acc))\n",
        "\n",
        "plt.plot(epochs, acc, 'bo', label='Training acc')\n",
        "plt.plot(epochs, val_acc, 'b', label='Validation acc')\n",
        "plt.title('Training and validation accuracy')\n",
        "plt.legend()\n",
        "\n",
        "plt.figure()\n",
        "\n",
        "plt.plot(epochs, loss, 'bo', label='Training loss')\n",
        "plt.plot(epochs, val_loss, 'b', label='Validation loss')\n",
        "plt.title('Training and validation loss')\n",
        "plt.legend()\n",
        "\n",
        "plt.show()"
      ],
      "execution_count": 20,
      "outputs": [
        {
          "output_type": "display_data",
          "data": {
            "image/png": "[encoded data removed]",
            "text/plain": [
              "<Figure size 432x288 with 1 Axes>"
            ]
          },
          "metadata": {
            "tags": [],
            "needs_background": "light"
          }
        },
        {
          "output_type": "display_data",
          "data": {
            "image/png": "[encoded data removed]",
            "text/plain": [
              "<Figure size 432x288 with 1 Axes>"
            ]
          },
          "metadata": {
            "tags": [],
            "needs_background": "light"
          }
        }
      ]
    },
    {
      "cell_type": "code",
      "metadata": {
        "id": "qWaz0We_l3kk",
        "colab_type": "code",
        "colab": {
          "base_uri": "https://localhost:8080/",
          "height": 35
        },
        "outputId": "6f6e0fbd-2a9f-4f59-bc61-dd160b17d5a2"
      },
      "source": [
        "model_json = additional_model.to_json()\n",
        "with open(\"model.json\", \"w\") as json_file : \n",
        "    json_file.write(model_json)\n",
        "\n",
        "additional_model.save_weights(\"model_w.h5\")\n",
        "print(\"Saved model to disk\")"
      ],
      "execution_count": 21,
      "outputs": [
        {
          "output_type": "stream",
          "text": [
            "Saved model to disk\n"
          ],
          "name": "stdout"
        }
      ]
    },
    {
      "cell_type": "code",
      "metadata": {
        "id": "fAJnCiw2K4q8",
        "colab_type": "code",
        "colab": {}
      },
      "source": [
        ""
      ],
      "execution_count": null,
      "outputs": []
    }
  ]
}